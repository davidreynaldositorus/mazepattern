{
 "cells": [
  {
   "cell_type": "code",
   "execution_count": 3,
   "metadata": {},
   "outputs": [
    {
     "name": "stdout",
     "output_type": "stream",
     "text": [
      "Masukkan nilai S:9\n",
      "@ @@@@@@@\n",
      "@       @\n",
      "@@@@@@@ @\n",
      "@       @\n",
      "@ @@@@@@@\n",
      "@       @\n",
      "@@@@@@@ @\n",
      "@       @\n",
      "@ @@@@@@@\n"
     ]
    }
   ],
   "source": [
    "#fungsi meng-generate maze dengan Python\n",
    "def maze(S):\n",
    "    n=1\n",
    "    for i in range(S):\n",
    "        if (i+1)%2==0:\n",
    "            print('@'+' '*(S-2)+'@')\n",
    "        else:\n",
    "            if n==1:\n",
    "                print('@'+' '+'@'*(S-2))\n",
    "            else:\n",
    "                print('@'*(S-2)+' '+'@')\n",
    "            n = not n\n",
    "if __name__ == '__main__':\n",
    "    S = input(\"Masukkan nilai S:\")\n",
    "    maze(int(S))"
   ]
  },
  {
   "cell_type": "code",
   "execution_count": null,
   "metadata": {},
   "outputs": [],
   "source": []
  }
 ],
 "metadata": {
  "kernelspec": {
   "display_name": "Python 3",
   "language": "python",
   "name": "python3"
  },
  "language_info": {
   "codemirror_mode": {
    "name": "ipython",
    "version": 3
   },
   "file_extension": ".py",
   "mimetype": "text/x-python",
   "name": "python",
   "nbconvert_exporter": "python",
   "pygments_lexer": "ipython3",
   "version": "3.6.5"
  }
 },
 "nbformat": 4,
 "nbformat_minor": 2
}
